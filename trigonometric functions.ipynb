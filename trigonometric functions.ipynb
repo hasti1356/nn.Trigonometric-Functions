{
  "cells": [
    {
      "cell_type": "code",
      "execution_count": 37,
      "metadata": {
        "id": "YBPgggQRmcj2"
      },
      "outputs": [],
      "source": [
        "import numpy as np\n",
        "import tensorflow as tf"
      ]
    },
    {
      "cell_type": "code",
      "execution_count": 38,
      "metadata": {
        "id": "UwTQzB6DmiXc"
      },
      "outputs": [],
      "source": [
        "x = np.linspace(-2*np.pi,2*np.pi,1000).reshape(-1,1)\n",
        "y = np.sin(x)"
      ]
    },
    {
      "cell_type": "code",
      "execution_count": 39,
      "metadata": {
        "id": "gCtG-RTYnEm9"
      },
      "outputs": [],
      "source": [
        "ann = tf.keras.models.Sequential()"
      ]
    },
    {
      "cell_type": "code",
      "execution_count": 40,
      "metadata": {
        "id": "MQcrQHHpoEvf"
      },
      "outputs": [],
      "source": [
        "ann.add(tf.keras.layers.Dense(units=40,activation='sigmoid'))"
      ]
    },
    {
      "cell_type": "code",
      "execution_count": 41,
      "metadata": {
        "id": "uzoJra3goR_3"
      },
      "outputs": [],
      "source": [
        "ann.add(tf.keras.layers.Dense(units=12,activation='sigmoid'))"
      ]
    },
    {
      "cell_type": "code",
      "execution_count": 42,
      "metadata": {
        "id": "ZmPmRIS_oWl0"
      },
      "outputs": [],
      "source": [
        "ann.add(tf.keras.layers.Dense(units=1))"
      ]
    },
    {
      "cell_type": "code",
      "execution_count": 43,
      "metadata": {},
      "outputs": [
        {
          "data": {
            "text/plain": [
              "['ACC',\n",
              " 'AUC',\n",
              " 'Accuracy',\n",
              " 'BCE',\n",
              " 'BinaryAccuracy',\n",
              " 'BinaryCrossentropy',\n",
              " 'BinaryIoU',\n",
              " 'CategoricalAccuracy',\n",
              " 'CategoricalCrossentropy',\n",
              " 'CategoricalHinge',\n",
              " 'CosineSimilarity',\n",
              " 'FalseNegatives',\n",
              " 'FalsePositives',\n",
              " 'Hinge',\n",
              " 'IoU',\n",
              " 'KLDivergence',\n",
              " 'LogCoshError',\n",
              " 'MAE',\n",
              " 'MAPE',\n",
              " 'MSE',\n",
              " 'MSLE',\n",
              " 'Mean',\n",
              " 'MeanAbsoluteError',\n",
              " 'MeanAbsolutePercentageError',\n",
              " 'MeanIoU',\n",
              " 'MeanMetricWrapper',\n",
              " 'MeanRelativeError',\n",
              " 'MeanSquaredError',\n",
              " 'MeanSquaredLogarithmicError',\n",
              " 'MeanTensor',\n",
              " 'Metric',\n",
              " 'OneHotIoU',\n",
              " 'OneHotMeanIoU',\n",
              " 'Poisson',\n",
              " 'Precision',\n",
              " 'PrecisionAtRecall',\n",
              " 'Recall',\n",
              " 'RecallAtPrecision',\n",
              " 'Reduce',\n",
              " 'RootMeanSquaredError',\n",
              " 'SensitivityAtSpecificity',\n",
              " 'SensitivitySpecificityBase',\n",
              " 'SparseCategoricalAccuracy',\n",
              " 'SparseCategoricalCrossentropy',\n",
              " 'SparseTopKCategoricalAccuracy',\n",
              " 'SpecificityAtSensitivity',\n",
              " 'SquaredHinge',\n",
              " 'Sum',\n",
              " 'SumOverBatchSize',\n",
              " 'SumOverBatchSizeMetricWrapper',\n",
              " 'TopKCategoricalAccuracy',\n",
              " 'TrueNegatives',\n",
              " 'TruePositives',\n",
              " '_ConfusionMatrixConditionCount',\n",
              " '_IoUBase',\n",
              " '__builtins__',\n",
              " '__cached__',\n",
              " '__doc__',\n",
              " '__file__',\n",
              " '__loader__',\n",
              " '__name__',\n",
              " '__package__',\n",
              " '__path__',\n",
              " '__spec__',\n",
              " 'acc',\n",
              " 'accuracy',\n",
              " 'base_metric',\n",
              " 'bce',\n",
              " 'binary_accuracy',\n",
              " 'binary_crossentropy',\n",
              " 'categorical_accuracy',\n",
              " 'categorical_crossentropy',\n",
              " 'categorical_hinge',\n",
              " 'clone_metric',\n",
              " 'clone_metrics',\n",
              " 'cosine_proximity',\n",
              " 'cosine_similarity',\n",
              " 'deserialize',\n",
              " 'deserialize_keras_object',\n",
              " 'get',\n",
              " 'hinge',\n",
              " 'keras_export',\n",
              " 'kullback_leibler_divergence',\n",
              " 'log_cosh',\n",
              " 'logcosh',\n",
              " 'mae',\n",
              " 'mape',\n",
              " 'mean_absolute_error',\n",
              " 'mean_absolute_percentage_error',\n",
              " 'mean_squared_error',\n",
              " 'mean_squared_logarithmic_error',\n",
              " 'metrics',\n",
              " 'mse',\n",
              " 'msle',\n",
              " 'poisson',\n",
              " 'serialize',\n",
              " 'serialize_keras_object',\n",
              " 'sparse_categorical_accuracy',\n",
              " 'sparse_categorical_crossentropy',\n",
              " 'sparse_top_k_categorical_accuracy',\n",
              " 'squared_hinge',\n",
              " 'top_k_categorical_accuracy']"
            ]
          },
          "execution_count": 43,
          "metadata": {},
          "output_type": "execute_result"
        }
      ],
      "source": [
        "import keras.metrics\n",
        "dir(keras.metrics)"
      ]
    },
    {
      "cell_type": "code",
      "execution_count": 46,
      "metadata": {
        "id": "4URa932Lozs8"
      },
      "outputs": [],
      "source": [
        "ann.compile(loss='mean_squared_error' ,optimizer='adam',metrics=['Recall'])"
      ]
    },
    {
      "cell_type": "code",
      "execution_count": 47,
      "metadata": {
        "colab": {
          "base_uri": "https://localhost:8080/"
        },
        "id": "cA9MAvK4pbtq",
        "outputId": "3e6a2a92-e932-4cbb-f8bc-fc3a0652854e"
      },
      "outputs": [
        {
          "name": "stdout",
          "output_type": "stream",
          "text": [
            "Epoch 1/200\n",
            "63/63 [==============================] - 1s 2ms/step - loss: 0.4396 - recall: 0.0000e+00\n",
            "Epoch 2/200\n",
            "63/63 [==============================] - 0s 2ms/step - loss: 0.4354 - recall: 0.0000e+00\n",
            "Epoch 3/200\n",
            "63/63 [==============================] - 0s 2ms/step - loss: 0.4333 - recall: 0.0000e+00\n",
            "Epoch 4/200\n",
            "63/63 [==============================] - 0s 2ms/step - loss: 0.4334 - recall: 0.0000e+00\n",
            "Epoch 5/200\n",
            "63/63 [==============================] - 0s 2ms/step - loss: 0.4335 - recall: 0.0000e+00\n",
            "Epoch 6/200\n",
            "63/63 [==============================] - 0s 2ms/step - loss: 0.4328 - recall: 0.0000e+00\n",
            "Epoch 7/200\n",
            "63/63 [==============================] - 0s 2ms/step - loss: 0.4306 - recall: 0.0000e+00\n",
            "Epoch 8/200\n",
            "63/63 [==============================] - 0s 2ms/step - loss: 0.4275 - recall: 0.0000e+00\n",
            "Epoch 9/200\n",
            "63/63 [==============================] - 0s 2ms/step - loss: 0.4241 - recall: 0.0000e+00\n",
            "Epoch 10/200\n",
            "63/63 [==============================] - 0s 2ms/step - loss: 0.4231 - recall: 0.0000e+00\n",
            "Epoch 11/200\n",
            "63/63 [==============================] - 0s 2ms/step - loss: 0.4195 - recall: 0.0000e+00\n",
            "Epoch 12/200\n",
            "63/63 [==============================] - 0s 2ms/step - loss: 0.4145 - recall: 0.0000e+00\n",
            "Epoch 13/200\n",
            "63/63 [==============================] - 0s 2ms/step - loss: 0.4076 - recall: 0.0000e+00\n",
            "Epoch 14/200\n",
            "63/63 [==============================] - 0s 2ms/step - loss: 0.4015 - recall: 0.0050\n",
            "Epoch 15/200\n",
            "63/63 [==============================] - 0s 2ms/step - loss: 0.3915 - recall: 0.0000e+00\n",
            "Epoch 16/200\n",
            "63/63 [==============================] - 0s 2ms/step - loss: 0.3766 - recall: 0.0000e+00\n",
            "Epoch 17/200\n",
            "63/63 [==============================] - 0s 2ms/step - loss: 0.3638 - recall: 0.0000e+00\n",
            "Epoch 18/200\n",
            "63/63 [==============================] - 0s 2ms/step - loss: 0.3498 - recall: 0.0060\n",
            "Epoch 19/200\n",
            "63/63 [==============================] - 0s 2ms/step - loss: 0.3311 - recall: 0.0130\n",
            "Epoch 20/200\n",
            "63/63 [==============================] - 0s 4ms/step - loss: 0.3130 - recall: 0.0470\n",
            "Epoch 21/200\n",
            "63/63 [==============================] - 0s 2ms/step - loss: 0.2947 - recall: 0.0310\n",
            "Epoch 22/200\n",
            "63/63 [==============================] - 0s 2ms/step - loss: 0.2762 - recall: 0.0580\n",
            "Epoch 23/200\n",
            "63/63 [==============================] - 0s 2ms/step - loss: 0.2548 - recall: 0.0700\n",
            "Epoch 24/200\n",
            "63/63 [==============================] - 0s 2ms/step - loss: 0.2355 - recall: 0.0680\n",
            "Epoch 25/200\n",
            "63/63 [==============================] - 0s 2ms/step - loss: 0.2166 - recall: 0.0930\n",
            "Epoch 26/200\n",
            "63/63 [==============================] - 0s 2ms/step - loss: 0.2000 - recall: 0.0950\n",
            "Epoch 27/200\n",
            "63/63 [==============================] - 0s 2ms/step - loss: 0.1841 - recall: 0.1150\n",
            "Epoch 28/200\n",
            "63/63 [==============================] - 0s 2ms/step - loss: 0.1701 - recall: 0.1290\n",
            "Epoch 29/200\n",
            "63/63 [==============================] - 0s 2ms/step - loss: 0.1578 - recall: 0.1480\n",
            "Epoch 30/200\n",
            "63/63 [==============================] - 0s 2ms/step - loss: 0.1469 - recall: 0.1830\n",
            "Epoch 31/200\n",
            "63/63 [==============================] - 0s 3ms/step - loss: 0.1387 - recall: 0.2110\n",
            "Epoch 32/200\n",
            "63/63 [==============================] - 0s 2ms/step - loss: 0.1334 - recall: 0.2320\n",
            "Epoch 33/200\n",
            "63/63 [==============================] - 0s 2ms/step - loss: 0.1308 - recall: 0.2410\n",
            "Epoch 34/200\n",
            "63/63 [==============================] - 0s 2ms/step - loss: 0.1250 - recall: 0.2450\n",
            "Epoch 35/200\n",
            "63/63 [==============================] - 0s 2ms/step - loss: 0.1202 - recall: 0.2590\n",
            "Epoch 36/200\n",
            "63/63 [==============================] - 0s 2ms/step - loss: 0.1201 - recall: 0.2670\n",
            "Epoch 37/200\n",
            "63/63 [==============================] - 0s 2ms/step - loss: 0.1156 - recall: 0.2790\n",
            "Epoch 38/200\n",
            "63/63 [==============================] - 0s 2ms/step - loss: 0.1151 - recall: 0.2760\n",
            "Epoch 39/200\n",
            "63/63 [==============================] - 0s 2ms/step - loss: 0.1141 - recall: 0.2790\n",
            "Epoch 40/200\n",
            "63/63 [==============================] - 0s 2ms/step - loss: 0.1114 - recall: 0.2860\n",
            "Epoch 41/200\n",
            "63/63 [==============================] - 0s 2ms/step - loss: 0.1100 - recall: 0.2830\n",
            "Epoch 42/200\n",
            "63/63 [==============================] - 0s 2ms/step - loss: 0.1092 - recall: 0.2870\n",
            "Epoch 43/200\n",
            "63/63 [==============================] - 0s 2ms/step - loss: 0.1091 - recall: 0.2880\n",
            "Epoch 44/200\n",
            "63/63 [==============================] - 0s 2ms/step - loss: 0.1073 - recall: 0.2900\n",
            "Epoch 45/200\n",
            "63/63 [==============================] - 0s 2ms/step - loss: 0.1055 - recall: 0.2880\n",
            "Epoch 46/200\n",
            "63/63 [==============================] - 0s 2ms/step - loss: 0.1052 - recall: 0.3000\n",
            "Epoch 47/200\n",
            "63/63 [==============================] - 0s 2ms/step - loss: 0.1054 - recall: 0.2870\n",
            "Epoch 48/200\n",
            "63/63 [==============================] - 0s 2ms/step - loss: 0.1049 - recall: 0.2940\n",
            "Epoch 49/200\n",
            "63/63 [==============================] - 0s 2ms/step - loss: 0.1050 - recall: 0.2990\n",
            "Epoch 50/200\n",
            "63/63 [==============================] - 0s 2ms/step - loss: 0.1042 - recall: 0.2990\n",
            "Epoch 51/200\n",
            "63/63 [==============================] - 0s 2ms/step - loss: 0.1008 - recall: 0.2920\n",
            "Epoch 52/200\n",
            "63/63 [==============================] - 0s 2ms/step - loss: 0.1009 - recall: 0.2980\n",
            "Epoch 53/200\n",
            "63/63 [==============================] - 0s 2ms/step - loss: 0.1009 - recall: 0.2990\n",
            "Epoch 54/200\n",
            "63/63 [==============================] - 0s 2ms/step - loss: 0.0996 - recall: 0.2910\n",
            "Epoch 55/200\n",
            "63/63 [==============================] - 0s 2ms/step - loss: 0.0984 - recall: 0.3000\n",
            "Epoch 56/200\n",
            "63/63 [==============================] - 0s 4ms/step - loss: 0.0975 - recall: 0.2970\n",
            "Epoch 57/200\n",
            "63/63 [==============================] - 0s 3ms/step - loss: 0.0973 - recall: 0.2990\n",
            "Epoch 58/200\n",
            "63/63 [==============================] - 0s 2ms/step - loss: 0.0965 - recall: 0.2990\n",
            "Epoch 59/200\n",
            "63/63 [==============================] - 0s 2ms/step - loss: 0.0964 - recall: 0.2920\n",
            "Epoch 60/200\n",
            "63/63 [==============================] - 0s 2ms/step - loss: 0.0965 - recall: 0.2990\n",
            "Epoch 61/200\n",
            "63/63 [==============================] - 0s 2ms/step - loss: 0.0953 - recall: 0.3000\n",
            "Epoch 62/200\n",
            "63/63 [==============================] - 0s 2ms/step - loss: 0.0941 - recall: 0.2970\n",
            "Epoch 63/200\n",
            "63/63 [==============================] - 0s 2ms/step - loss: 0.0940 - recall: 0.2950\n",
            "Epoch 64/200\n",
            "63/63 [==============================] - 0s 2ms/step - loss: 0.0956 - recall: 0.2950\n",
            "Epoch 65/200\n",
            "63/63 [==============================] - 0s 2ms/step - loss: 0.0925 - recall: 0.2970\n",
            "Epoch 66/200\n",
            "63/63 [==============================] - 0s 2ms/step - loss: 0.0923 - recall: 0.2980\n",
            "Epoch 67/200\n",
            "63/63 [==============================] - 0s 2ms/step - loss: 0.0930 - recall: 0.3020\n",
            "Epoch 68/200\n",
            "63/63 [==============================] - 0s 2ms/step - loss: 0.0923 - recall: 0.2970\n",
            "Epoch 69/200\n",
            "63/63 [==============================] - 0s 2ms/step - loss: 0.0927 - recall: 0.3020\n",
            "Epoch 70/200\n",
            "63/63 [==============================] - 0s 2ms/step - loss: 0.0903 - recall: 0.2990\n",
            "Epoch 71/200\n",
            "63/63 [==============================] - 0s 2ms/step - loss: 0.0899 - recall: 0.2940\n",
            "Epoch 72/200\n",
            "63/63 [==============================] - 0s 2ms/step - loss: 0.0906 - recall: 0.3070\n",
            "Epoch 73/200\n",
            "63/63 [==============================] - 0s 2ms/step - loss: 0.0894 - recall: 0.2990\n",
            "Epoch 74/200\n",
            "63/63 [==============================] - 0s 2ms/step - loss: 0.0888 - recall: 0.3000\n",
            "Epoch 75/200\n",
            "63/63 [==============================] - 0s 2ms/step - loss: 0.0899 - recall: 0.3000\n",
            "Epoch 76/200\n",
            "63/63 [==============================] - 0s 2ms/step - loss: 0.0897 - recall: 0.3010\n",
            "Epoch 77/200\n",
            "63/63 [==============================] - 0s 2ms/step - loss: 0.0872 - recall: 0.3070\n",
            "Epoch 78/200\n",
            "63/63 [==============================] - 0s 2ms/step - loss: 0.0883 - recall: 0.3050\n",
            "Epoch 79/200\n",
            "63/63 [==============================] - 0s 3ms/step - loss: 0.0882 - recall: 0.3030\n",
            "Epoch 80/200\n",
            "63/63 [==============================] - 0s 2ms/step - loss: 0.0868 - recall: 0.3020\n",
            "Epoch 81/200\n",
            "63/63 [==============================] - 0s 2ms/step - loss: 0.0865 - recall: 0.3070\n",
            "Epoch 82/200\n",
            "63/63 [==============================] - 0s 2ms/step - loss: 0.0861 - recall: 0.3030\n",
            "Epoch 83/200\n",
            "63/63 [==============================] - 0s 2ms/step - loss: 0.0867 - recall: 0.3030\n",
            "Epoch 84/200\n",
            "63/63 [==============================] - 0s 2ms/step - loss: 0.0858 - recall: 0.2990\n",
            "Epoch 85/200\n",
            "63/63 [==============================] - 0s 2ms/step - loss: 0.0858 - recall: 0.3060\n",
            "Epoch 86/200\n",
            "63/63 [==============================] - 0s 2ms/step - loss: 0.0861 - recall: 0.3090\n",
            "Epoch 87/200\n",
            "63/63 [==============================] - 0s 2ms/step - loss: 0.0858 - recall: 0.3030\n",
            "Epoch 88/200\n",
            "63/63 [==============================] - 0s 2ms/step - loss: 0.0863 - recall: 0.3040\n",
            "Epoch 89/200\n",
            "63/63 [==============================] - 0s 2ms/step - loss: 0.0839 - recall: 0.3070\n",
            "Epoch 90/200\n",
            "63/63 [==============================] - 0s 2ms/step - loss: 0.0845 - recall: 0.3070\n",
            "Epoch 91/200\n",
            "63/63 [==============================] - 0s 4ms/step - loss: 0.0842 - recall: 0.3080\n",
            "Epoch 92/200\n",
            "63/63 [==============================] - 0s 2ms/step - loss: 0.0840 - recall: 0.3090\n",
            "Epoch 93/200\n",
            "63/63 [==============================] - 0s 2ms/step - loss: 0.0835 - recall: 0.3070\n",
            "Epoch 94/200\n",
            "63/63 [==============================] - 0s 2ms/step - loss: 0.0827 - recall: 0.3060\n",
            "Epoch 95/200\n",
            "63/63 [==============================] - 0s 2ms/step - loss: 0.0825 - recall: 0.3030\n",
            "Epoch 96/200\n",
            "63/63 [==============================] - 0s 2ms/step - loss: 0.0825 - recall: 0.3090\n",
            "Epoch 97/200\n",
            "63/63 [==============================] - 0s 2ms/step - loss: 0.0816 - recall: 0.3070\n",
            "Epoch 98/200\n",
            "63/63 [==============================] - 0s 2ms/step - loss: 0.0833 - recall: 0.3050\n",
            "Epoch 99/200\n",
            "63/63 [==============================] - 0s 2ms/step - loss: 0.0818 - recall: 0.3080\n",
            "Epoch 100/200\n",
            "63/63 [==============================] - 0s 2ms/step - loss: 0.0815 - recall: 0.3140\n",
            "Epoch 101/200\n",
            "63/63 [==============================] - 0s 2ms/step - loss: 0.0810 - recall: 0.3100\n",
            "Epoch 102/200\n",
            "63/63 [==============================] - 0s 2ms/step - loss: 0.0809 - recall: 0.3090\n",
            "Epoch 103/200\n",
            "63/63 [==============================] - 0s 2ms/step - loss: 0.0808 - recall: 0.3060\n",
            "Epoch 104/200\n",
            "63/63 [==============================] - 0s 2ms/step - loss: 0.0813 - recall: 0.3100\n",
            "Epoch 105/200\n",
            "63/63 [==============================] - 0s 2ms/step - loss: 0.0814 - recall: 0.3140\n",
            "Epoch 106/200\n",
            "63/63 [==============================] - 0s 2ms/step - loss: 0.0805 - recall: 0.3150\n",
            "Epoch 107/200\n",
            "63/63 [==============================] - 0s 2ms/step - loss: 0.0808 - recall: 0.3120\n",
            "Epoch 108/200\n",
            "63/63 [==============================] - 0s 2ms/step - loss: 0.0811 - recall: 0.3090\n",
            "Epoch 109/200\n",
            "63/63 [==============================] - 0s 2ms/step - loss: 0.0820 - recall: 0.3100\n",
            "Epoch 110/200\n",
            "63/63 [==============================] - 0s 2ms/step - loss: 0.0796 - recall: 0.3180\n",
            "Epoch 111/200\n",
            "63/63 [==============================] - 0s 2ms/step - loss: 0.0802 - recall: 0.3130\n",
            "Epoch 112/200\n",
            "63/63 [==============================] - 0s 2ms/step - loss: 0.0796 - recall: 0.3080\n",
            "Epoch 113/200\n",
            "63/63 [==============================] - 0s 2ms/step - loss: 0.0795 - recall: 0.3140\n",
            "Epoch 114/200\n",
            "63/63 [==============================] - 0s 2ms/step - loss: 0.0804 - recall: 0.3130\n",
            "Epoch 115/200\n",
            "63/63 [==============================] - 0s 2ms/step - loss: 0.0788 - recall: 0.3170\n",
            "Epoch 116/200\n",
            "63/63 [==============================] - 0s 2ms/step - loss: 0.0795 - recall: 0.3120\n",
            "Epoch 117/200\n",
            "63/63 [==============================] - 0s 2ms/step - loss: 0.0787 - recall: 0.3110\n",
            "Epoch 118/200\n",
            "63/63 [==============================] - 0s 2ms/step - loss: 0.0794 - recall: 0.3180\n",
            "Epoch 119/200\n",
            "63/63 [==============================] - 0s 2ms/step - loss: 0.0788 - recall: 0.3120\n",
            "Epoch 120/200\n",
            "63/63 [==============================] - 0s 2ms/step - loss: 0.0784 - recall: 0.3180\n",
            "Epoch 121/200\n",
            "63/63 [==============================] - 0s 4ms/step - loss: 0.0789 - recall: 0.3080\n",
            "Epoch 122/200\n",
            "63/63 [==============================] - 0s 2ms/step - loss: 0.0790 - recall: 0.3060\n",
            "Epoch 123/200\n",
            "63/63 [==============================] - 0s 2ms/step - loss: 0.0782 - recall: 0.3160\n",
            "Epoch 124/200\n",
            "63/63 [==============================] - 0s 2ms/step - loss: 0.0786 - recall: 0.3100\n",
            "Epoch 125/200\n",
            "63/63 [==============================] - 0s 2ms/step - loss: 0.0775 - recall: 0.3190\n",
            "Epoch 126/200\n",
            "63/63 [==============================] - 0s 2ms/step - loss: 0.0779 - recall: 0.3170\n",
            "Epoch 127/200\n",
            "63/63 [==============================] - 0s 2ms/step - loss: 0.0785 - recall: 0.3140\n",
            "Epoch 128/200\n",
            "63/63 [==============================] - 0s 2ms/step - loss: 0.0779 - recall: 0.3080\n",
            "Epoch 129/200\n",
            "63/63 [==============================] - 0s 2ms/step - loss: 0.0783 - recall: 0.3110\n",
            "Epoch 130/200\n",
            "63/63 [==============================] - 0s 2ms/step - loss: 0.0766 - recall: 0.3090\n",
            "Epoch 131/200\n",
            "63/63 [==============================] - 0s 2ms/step - loss: 0.0777 - recall: 0.3210\n",
            "Epoch 132/200\n",
            "63/63 [==============================] - 0s 2ms/step - loss: 0.0777 - recall: 0.3080\n",
            "Epoch 133/200\n",
            "63/63 [==============================] - 0s 2ms/step - loss: 0.0792 - recall: 0.3120\n",
            "Epoch 134/200\n",
            "63/63 [==============================] - 0s 2ms/step - loss: 0.0759 - recall: 0.3130\n",
            "Epoch 135/200\n",
            "63/63 [==============================] - 0s 2ms/step - loss: 0.0760 - recall: 0.3150\n",
            "Epoch 136/200\n",
            "63/63 [==============================] - 0s 2ms/step - loss: 0.0765 - recall: 0.3170\n",
            "Epoch 137/200\n",
            "63/63 [==============================] - 0s 2ms/step - loss: 0.0771 - recall: 0.3180\n",
            "Epoch 138/200\n",
            "63/63 [==============================] - 0s 2ms/step - loss: 0.0770 - recall: 0.3120\n",
            "Epoch 139/200\n",
            "63/63 [==============================] - 0s 2ms/step - loss: 0.0774 - recall: 0.3160\n",
            "Epoch 140/200\n",
            "63/63 [==============================] - 0s 2ms/step - loss: 0.0754 - recall: 0.3210\n",
            "Epoch 141/200\n",
            "63/63 [==============================] - 0s 2ms/step - loss: 0.0762 - recall: 0.3150\n",
            "Epoch 142/200\n",
            "63/63 [==============================] - 0s 2ms/step - loss: 0.0757 - recall: 0.3160\n",
            "Epoch 143/200\n",
            "63/63 [==============================] - 0s 2ms/step - loss: 0.0752 - recall: 0.3160\n",
            "Epoch 144/200\n",
            "63/63 [==============================] - 0s 2ms/step - loss: 0.0749 - recall: 0.3170\n",
            "Epoch 145/200\n",
            "63/63 [==============================] - 0s 2ms/step - loss: 0.0750 - recall: 0.3160\n",
            "Epoch 146/200\n",
            "63/63 [==============================] - 0s 2ms/step - loss: 0.0750 - recall: 0.3160\n",
            "Epoch 147/200\n",
            "63/63 [==============================] - 0s 2ms/step - loss: 0.0745 - recall: 0.3180\n",
            "Epoch 148/200\n",
            "63/63 [==============================] - 0s 2ms/step - loss: 0.0747 - recall: 0.3180\n",
            "Epoch 149/200\n",
            "63/63 [==============================] - 0s 4ms/step - loss: 0.0746 - recall: 0.3210\n",
            "Epoch 150/200\n",
            "63/63 [==============================] - 0s 2ms/step - loss: 0.0739 - recall: 0.3190\n",
            "Epoch 151/200\n",
            "63/63 [==============================] - 0s 2ms/step - loss: 0.0743 - recall: 0.3100\n",
            "Epoch 152/200\n",
            "63/63 [==============================] - 0s 2ms/step - loss: 0.0753 - recall: 0.3170\n",
            "Epoch 153/200\n",
            "63/63 [==============================] - 0s 2ms/step - loss: 0.0739 - recall: 0.3190\n",
            "Epoch 154/200\n",
            "63/63 [==============================] - 0s 2ms/step - loss: 0.0742 - recall: 0.3240\n",
            "Epoch 155/200\n",
            "63/63 [==============================] - 0s 2ms/step - loss: 0.0739 - recall: 0.3130\n",
            "Epoch 156/200\n",
            "63/63 [==============================] - 0s 2ms/step - loss: 0.0738 - recall: 0.3150\n",
            "Epoch 157/200\n",
            "63/63 [==============================] - 0s 2ms/step - loss: 0.0735 - recall: 0.3250\n",
            "Epoch 158/200\n",
            "63/63 [==============================] - 0s 2ms/step - loss: 0.0739 - recall: 0.3170\n",
            "Epoch 159/200\n",
            "63/63 [==============================] - 0s 2ms/step - loss: 0.0732 - recall: 0.3190\n",
            "Epoch 160/200\n",
            "63/63 [==============================] - 0s 2ms/step - loss: 0.0737 - recall: 0.3130\n",
            "Epoch 161/200\n",
            "63/63 [==============================] - 0s 2ms/step - loss: 0.0735 - recall: 0.3140\n",
            "Epoch 162/200\n",
            "63/63 [==============================] - 0s 2ms/step - loss: 0.0738 - recall: 0.3210\n",
            "Epoch 163/200\n",
            "63/63 [==============================] - 0s 2ms/step - loss: 0.0727 - recall: 0.3140\n",
            "Epoch 164/200\n",
            "63/63 [==============================] - 0s 2ms/step - loss: 0.0728 - recall: 0.3210\n",
            "Epoch 165/200\n",
            "63/63 [==============================] - 0s 2ms/step - loss: 0.0723 - recall: 0.3190\n",
            "Epoch 166/200\n",
            "63/63 [==============================] - 0s 2ms/step - loss: 0.0724 - recall: 0.3220\n",
            "Epoch 167/200\n",
            "63/63 [==============================] - 0s 2ms/step - loss: 0.0731 - recall: 0.3180\n",
            "Epoch 168/200\n",
            "63/63 [==============================] - 0s 2ms/step - loss: 0.0730 - recall: 0.3190\n",
            "Epoch 169/200\n",
            "63/63 [==============================] - 0s 2ms/step - loss: 0.0720 - recall: 0.3200\n",
            "Epoch 170/200\n",
            "63/63 [==============================] - 0s 2ms/step - loss: 0.0722 - recall: 0.3200\n",
            "Epoch 171/200\n",
            "63/63 [==============================] - 0s 2ms/step - loss: 0.0725 - recall: 0.3200\n",
            "Epoch 172/200\n",
            "63/63 [==============================] - 0s 2ms/step - loss: 0.0726 - recall: 0.3230\n",
            "Epoch 173/200\n",
            "63/63 [==============================] - 0s 2ms/step - loss: 0.0717 - recall: 0.3220\n",
            "Epoch 174/200\n",
            "63/63 [==============================] - 0s 4ms/step - loss: 0.0719 - recall: 0.3210\n",
            "Epoch 175/200\n",
            "63/63 [==============================] - 0s 2ms/step - loss: 0.0718 - recall: 0.3170\n",
            "Epoch 176/200\n",
            "63/63 [==============================] - 0s 3ms/step - loss: 0.0720 - recall: 0.3250\n",
            "Epoch 177/200\n",
            "63/63 [==============================] - 0s 2ms/step - loss: 0.0712 - recall: 0.3200\n",
            "Epoch 178/200\n",
            "63/63 [==============================] - 0s 2ms/step - loss: 0.0711 - recall: 0.3230\n",
            "Epoch 179/200\n",
            "63/63 [==============================] - 0s 2ms/step - loss: 0.0707 - recall: 0.3260\n",
            "Epoch 180/200\n",
            "63/63 [==============================] - 0s 2ms/step - loss: 0.0715 - recall: 0.3210\n",
            "Epoch 181/200\n",
            "63/63 [==============================] - 0s 2ms/step - loss: 0.0703 - recall: 0.3250\n",
            "Epoch 182/200\n",
            "63/63 [==============================] - 0s 2ms/step - loss: 0.0711 - recall: 0.3160\n",
            "Epoch 183/200\n",
            "63/63 [==============================] - 0s 2ms/step - loss: 0.0709 - recall: 0.3210\n",
            "Epoch 184/200\n",
            "63/63 [==============================] - 0s 2ms/step - loss: 0.0715 - recall: 0.3240\n",
            "Epoch 185/200\n",
            "63/63 [==============================] - 0s 2ms/step - loss: 0.0705 - recall: 0.3250\n",
            "Epoch 186/200\n",
            "63/63 [==============================] - 0s 2ms/step - loss: 0.0698 - recall: 0.3150\n",
            "Epoch 187/200\n",
            "63/63 [==============================] - 0s 2ms/step - loss: 0.0709 - recall: 0.3200\n",
            "Epoch 188/200\n",
            "63/63 [==============================] - 0s 2ms/step - loss: 0.0695 - recall: 0.3190\n",
            "Epoch 189/200\n",
            "63/63 [==============================] - 0s 2ms/step - loss: 0.0699 - recall: 0.3270\n",
            "Epoch 190/200\n",
            "63/63 [==============================] - 0s 2ms/step - loss: 0.0697 - recall: 0.3200\n",
            "Epoch 191/200\n",
            "63/63 [==============================] - 0s 2ms/step - loss: 0.0705 - recall: 0.3210\n",
            "Epoch 192/200\n",
            "63/63 [==============================] - 0s 2ms/step - loss: 0.0702 - recall: 0.3190\n",
            "Epoch 193/200\n",
            "63/63 [==============================] - 0s 2ms/step - loss: 0.0699 - recall: 0.3230\n",
            "Epoch 194/200\n",
            "63/63 [==============================] - 0s 2ms/step - loss: 0.0705 - recall: 0.3150\n",
            "Epoch 195/200\n",
            "63/63 [==============================] - 0s 2ms/step - loss: 0.0693 - recall: 0.3190\n",
            "Epoch 196/200\n",
            "63/63 [==============================] - 0s 4ms/step - loss: 0.0686 - recall: 0.3320\n",
            "Epoch 197/200\n",
            "63/63 [==============================] - 0s 2ms/step - loss: 0.0688 - recall: 0.3200\n",
            "Epoch 198/200\n",
            "63/63 [==============================] - 0s 2ms/step - loss: 0.0687 - recall: 0.3230\n",
            "Epoch 199/200\n",
            "63/63 [==============================] - 0s 2ms/step - loss: 0.0690 - recall: 0.3250\n",
            "Epoch 200/200\n",
            "63/63 [==============================] - 0s 2ms/step - loss: 0.0678 - recall: 0.3270\n"
          ]
        },
        {
          "data": {
            "text/plain": [
              "<keras.callbacks.History at 0x2037a185690>"
            ]
          },
          "execution_count": 47,
          "metadata": {},
          "output_type": "execute_result"
        }
      ],
      "source": [
        "ann.fit(x,y,epochs=200,batch_size=16)"
      ]
    },
    {
      "cell_type": "code",
      "execution_count": null,
      "metadata": {
        "colab": {
          "base_uri": "https://localhost:8080/"
        },
        "id": "soT8p4Qsq5_R",
        "outputId": "e9f42847-c11a-45d9-f38b-90dfeecc6bfd"
      },
      "outputs": [
        {
          "data": {
            "text/plain": [
              "array([[0.4809318]], dtype=float32)"
            ]
          },
          "execution_count": 24,
          "metadata": {
            "tags": []
          },
          "output_type": "execute_result"
        }
      ],
      "source": [
        "ann.predict([30*np.pi/180])"
      ]
    },
    {
      "cell_type": "code",
      "execution_count": null,
      "metadata": {
        "colab": {
          "base_uri": "https://localhost:8080/"
        },
        "id": "plhMMNPvq6Fd",
        "outputId": "12fac2b6-3122-4230-ad36-3f43dd7b9e91"
      },
      "outputs": [
        {
          "data": {
            "text/plain": [
              "array([[-0.50105155]], dtype=float32)"
            ]
          },
          "execution_count": 25,
          "metadata": {
            "tags": []
          },
          "output_type": "execute_result"
        }
      ],
      "source": [
        "ann.predict([-30*np.pi/180])"
      ]
    },
    {
      "cell_type": "code",
      "execution_count": null,
      "metadata": {
        "colab": {
          "base_uri": "https://localhost:8080/"
        },
        "id": "1LQrAAOZrSCW",
        "outputId": "31157299-a915-4adc-e0a6-149add09a19a"
      },
      "outputs": [
        {
          "data": {
            "text/plain": [
              "array([[0.6959752]], dtype=float32)"
            ]
          },
          "execution_count": 26,
          "metadata": {
            "tags": []
          },
          "output_type": "execute_result"
        }
      ],
      "source": [
        "ann.predict([45*np.pi/180])"
      ]
    },
    {
      "cell_type": "code",
      "execution_count": null,
      "metadata": {
        "colab": {
          "base_uri": "https://localhost:8080/"
        },
        "id": "nj1WmBrarSHR",
        "outputId": "9bfff40b-2ca4-4b93-bf4b-905d999d28ab"
      },
      "outputs": [
        {
          "data": {
            "text/plain": [
              "array([[-0.7170318]], dtype=float32)"
            ]
          },
          "execution_count": 27,
          "metadata": {
            "tags": []
          },
          "output_type": "execute_result"
        }
      ],
      "source": [
        "ann.predict([-45*np.pi/180])"
      ]
    },
    {
      "cell_type": "code",
      "execution_count": null,
      "metadata": {
        "colab": {
          "base_uri": "https://localhost:8080/"
        },
        "id": "ifO9YztbrWjo",
        "outputId": "93593edd-82c6-4c6c-b0b0-93a5eddd9cfa"
      },
      "outputs": [
        {
          "data": {
            "text/plain": [
              "array([[0.9997322]], dtype=float32)"
            ]
          },
          "execution_count": 28,
          "metadata": {
            "tags": []
          },
          "output_type": "execute_result"
        }
      ],
      "source": [
        "ann.predict([90*np.pi/180])"
      ]
    },
    {
      "cell_type": "code",
      "execution_count": null,
      "metadata": {
        "colab": {
          "base_uri": "https://localhost:8080/"
        },
        "id": "JVYxssHxrWmE",
        "outputId": "31035234-596c-466e-d2c5-9f9ea1b8401c"
      },
      "outputs": [
        {
          "data": {
            "text/plain": [
              "array([[-1.006966]], dtype=float32)"
            ]
          },
          "execution_count": 29,
          "metadata": {
            "tags": []
          },
          "output_type": "execute_result"
        }
      ],
      "source": [
        "ann.predict([-90*np.pi/180])"
      ]
    },
    {
      "cell_type": "code",
      "execution_count": null,
      "metadata": {
        "colab": {
          "base_uri": "https://localhost:8080/"
        },
        "id": "qqAkcgSQrf6A",
        "outputId": "5829abc7-5eb1-45f2-9875-e8b762d36c24"
      },
      "outputs": [
        {
          "data": {
            "text/plain": [
              "array([[4.6702285]], dtype=float32)"
            ]
          },
          "execution_count": 30,
          "metadata": {
            "tags": []
          },
          "output_type": "execute_result"
        }
      ],
      "source": [
        "ann.predict([4*np.pi])"
      ]
    },
    {
      "cell_type": "code",
      "execution_count": null,
      "metadata": {
        "colab": {
          "base_uri": "https://localhost:8080/"
        },
        "id": "2Kteak1ArjaD",
        "outputId": "20af0154-5ef0-4704-e05e-c01ec7ecc9e5"
      },
      "outputs": [
        {
          "data": {
            "text/plain": [
              "array([[-0.00583941]], dtype=float32)"
            ]
          },
          "execution_count": 31,
          "metadata": {
            "tags": []
          },
          "output_type": "execute_result"
        }
      ],
      "source": [
        "ann.predict([0])"
      ]
    },
    {
      "cell_type": "code",
      "execution_count": null,
      "metadata": {
        "colab": {
          "base_uri": "https://localhost:8080/"
        },
        "id": "QOzcP_2zrlQZ",
        "outputId": "43181b85-f5af-465e-a82f-7cbdcc269d43"
      },
      "outputs": [
        {
          "data": {
            "text/plain": [
              "array([[-0.02512532]], dtype=float32)"
            ]
          },
          "execution_count": 32,
          "metadata": {
            "tags": []
          },
          "output_type": "execute_result"
        }
      ],
      "source": [
        "ann.predict([2*np.pi])"
      ]
    },
    {
      "cell_type": "code",
      "execution_count": null,
      "metadata": {
        "colab": {
          "base_uri": "https://localhost:8080/"
        },
        "id": "EdKQH2x6sMyz",
        "outputId": "c0dfcf67-d03b-4dd1-95c2-052eaf56cdf9"
      },
      "outputs": [
        {
          "data": {
            "text/plain": [
              "array([[-1.0027282]], dtype=float32)"
            ]
          },
          "execution_count": 34,
          "metadata": {
            "tags": []
          },
          "output_type": "execute_result"
        }
      ],
      "source": [
        "ann.predict([270*np.pi/180])"
      ]
    },
    {
      "cell_type": "code",
      "execution_count": null,
      "metadata": {
        "colab": {
          "base_uri": "https://localhost:8080/"
        },
        "id": "qeek6WItsM3D",
        "outputId": "a477f1ca-58f4-4a05-b107-ef5975fdf946"
      },
      "outputs": [
        {
          "data": {
            "text/plain": [
              "array([[0.9897628]], dtype=float32)"
            ]
          },
          "execution_count": 35,
          "metadata": {
            "tags": []
          },
          "output_type": "execute_result"
        }
      ],
      "source": [
        "ann.predict([-270*np.pi/180])"
      ]
    },
    {
      "cell_type": "code",
      "execution_count": null,
      "metadata": {
        "colab": {
          "base_uri": "https://localhost:8080/",
          "height": 422
        },
        "id": "clhWA3K-saQ-",
        "outputId": "77ce737a-3cb6-43cf-a1b7-f886df51aab1"
      },
      "outputs": [
        {
          "data": {
            "image/png": "[encoded data removed]",
            "text/plain": [
              "<IPython.core.display.Image object>"
            ]
          },
          "execution_count": 36,
          "metadata": {
            "tags": []
          },
          "output_type": "execute_result"
        }
      ],
      "source": [
        "tf.keras.utils.plot_model(ann,show_shapes = True)"
      ]
    },
    {
      "cell_type": "code",
      "execution_count": null,
      "metadata": {
        "colab": {
          "base_uri": "https://localhost:8080/"
        },
        "id": "DBBl9J5hx-fm",
        "outputId": "efa2d9db-81b4-4343-8dc3-abefbf421043"
      },
      "outputs": [
        {
          "name": "stdout",
          "output_type": "stream",
          "text": [
            "Model: \"sequential\"\n",
            "_________________________________________________________________\n",
            "Layer (type)                 Output Shape              Param #   \n",
            "=================================================================\n",
            "dense (Dense)                (None, 40)                80        \n",
            "_________________________________________________________________\n",
            "dense_1 (Dense)              (None, 12)                492       \n",
            "_________________________________________________________________\n",
            "dense_2 (Dense)              (None, 1)                 13        \n",
            "=================================================================\n",
            "Total params: 585\n",
            "Trainable params: 585\n",
            "Non-trainable params: 0\n",
            "_________________________________________________________________\n"
          ]
        }
      ],
      "source": [
        "ann.summary()"
      ]
    },
    {
      "cell_type": "code",
      "execution_count": null,
      "metadata": {
        "colab": {
          "base_uri": "https://localhost:8080/"
        },
        "id": "hOLOtodw2wvv",
        "outputId": "37e943b6-bf8f-4831-c712-493738145d15"
      },
      "outputs": [
        {
          "name": "stdout",
          "output_type": "stream",
          "text": [
            "Mounted at /content/drive\n"
          ]
        }
      ],
      "source": [
        "from google.colab import drive\n",
        "drive.mount('/content/drive')"
      ]
    },
    {
      "cell_type": "code",
      "execution_count": null,
      "metadata": {
        "colab": {
          "base_uri": "https://localhost:8080/",
          "height": 402
        },
        "id": "_YzwHWIp29UV",
        "outputId": "faf27f34-05b1-491d-8dce-b1325281b775"
      },
      "outputs": [
        {
          "data": {
            "text/html": [
              "<div>\n",
              "<style scoped>\n",
              "    .dataframe tbody tr th:only-of-type {\n",
              "        vertical-align: middle;\n",
              "    }\n",
              "\n",
              "    .dataframe tbody tr th {\n",
              "        vertical-align: top;\n",
              "    }\n",
              "\n",
              "    .dataframe thead th {\n",
              "        text-align: right;\n",
              "    }\n",
              "</style>\n",
              "<table border=\"1\" class=\"dataframe\">\n",
              "  <thead>\n",
              "    <tr style=\"text-align: right;\">\n",
              "      <th></th>\n",
              "      <th>RowNumber</th>\n",
              "      <th>CustomerId</th>\n",
              "      <th>Surname</th>\n",
              "      <th>CreditScore</th>\n",
              "      <th>Geography</th>\n",
              "      <th>Gender</th>\n",
              "      <th>Age</th>\n",
              "      <th>Tenure</th>\n",
              "      <th>Balance</th>\n",
              "      <th>NumOfProducts</th>\n",
              "      <th>HasCrCard</th>\n",
              "      <th>IsActiveMember</th>\n",
              "      <th>EstimatedSalary</th>\n",
              "      <th>Exited</th>\n",
              "    </tr>\n",
              "  </thead>\n",
              "  <tbody>\n",
              "    <tr>\n",
              "      <th>0</th>\n",
              "      <td>1</td>\n",
              "      <td>15634602</td>\n",
              "      <td>Hargrave</td>\n",
              "      <td>619</td>\n",
              "      <td>France</td>\n",
              "      <td>Female</td>\n",
              "      <td>42</td>\n",
              "      <td>2</td>\n",
              "      <td>0.00</td>\n",
              "      <td>1</td>\n",
              "      <td>1</td>\n",
              "      <td>1</td>\n",
              "      <td>101348.88</td>\n",
              "      <td>1</td>\n",
              "    </tr>\n",
              "    <tr>\n",
              "      <th>1</th>\n",
              "      <td>2</td>\n",
              "      <td>15647311</td>\n",
              "      <td>Hill</td>\n",
              "      <td>608</td>\n",
              "      <td>Spain</td>\n",
              "      <td>Female</td>\n",
              "      <td>41</td>\n",
              "      <td>1</td>\n",
              "      <td>83807.86</td>\n",
              "      <td>1</td>\n",
              "      <td>0</td>\n",
              "      <td>1</td>\n",
              "      <td>112542.58</td>\n",
              "      <td>0</td>\n",
              "    </tr>\n",
              "    <tr>\n",
              "      <th>2</th>\n",
              "      <td>3</td>\n",
              "      <td>15619304</td>\n",
              "      <td>Onio</td>\n",
              "      <td>502</td>\n",
              "      <td>France</td>\n",
              "      <td>Female</td>\n",
              "      <td>42</td>\n",
              "      <td>8</td>\n",
              "      <td>159660.80</td>\n",
              "      <td>3</td>\n",
              "      <td>1</td>\n",
              "      <td>0</td>\n",
              "      <td>113931.57</td>\n",
              "      <td>1</td>\n",
              "    </tr>\n",
              "    <tr>\n",
              "      <th>3</th>\n",
              "      <td>4</td>\n",
              "      <td>15701354</td>\n",
              "      <td>Boni</td>\n",
              "      <td>699</td>\n",
              "      <td>France</td>\n",
              "      <td>Female</td>\n",
              "      <td>39</td>\n",
              "      <td>1</td>\n",
              "      <td>0.00</td>\n",
              "      <td>2</td>\n",
              "      <td>0</td>\n",
              "      <td>0</td>\n",
              "      <td>93826.63</td>\n",
              "      <td>0</td>\n",
              "    </tr>\n",
              "    <tr>\n",
              "      <th>4</th>\n",
              "      <td>5</td>\n",
              "      <td>15737888</td>\n",
              "      <td>Mitchell</td>\n",
              "      <td>850</td>\n",
              "      <td>Spain</td>\n",
              "      <td>Female</td>\n",
              "      <td>43</td>\n",
              "      <td>2</td>\n",
              "      <td>125510.82</td>\n",
              "      <td>1</td>\n",
              "      <td>1</td>\n",
              "      <td>1</td>\n",
              "      <td>79084.10</td>\n",
              "      <td>0</td>\n",
              "    </tr>\n",
              "    <tr>\n",
              "      <th>...</th>\n",
              "      <td>...</td>\n",
              "      <td>...</td>\n",
              "      <td>...</td>\n",
              "      <td>...</td>\n",
              "      <td>...</td>\n",
              "      <td>...</td>\n",
              "      <td>...</td>\n",
              "      <td>...</td>\n",
              "      <td>...</td>\n",
              "      <td>...</td>\n",
              "      <td>...</td>\n",
              "      <td>...</td>\n",
              "      <td>...</td>\n",
              "      <td>...</td>\n",
              "    </tr>\n",
              "    <tr>\n",
              "      <th>9995</th>\n",
              "      <td>9996</td>\n",
              "      <td>15606229</td>\n",
              "      <td>Obijiaku</td>\n",
              "      <td>771</td>\n",
              "      <td>France</td>\n",
              "      <td>Male</td>\n",
              "      <td>39</td>\n",
              "      <td>5</td>\n",
              "      <td>0.00</td>\n",
              "      <td>2</td>\n",
              "      <td>1</td>\n",
              "      <td>0</td>\n",
              "      <td>96270.64</td>\n",
              "      <td>0</td>\n",
              "    </tr>\n",
              "    <tr>\n",
              "      <th>9996</th>\n",
              "      <td>9997</td>\n",
              "      <td>15569892</td>\n",
              "      <td>Johnstone</td>\n",
              "      <td>516</td>\n",
              "      <td>France</td>\n",
              "      <td>Male</td>\n",
              "      <td>35</td>\n",
              "      <td>10</td>\n",
              "      <td>57369.61</td>\n",
              "      <td>1</td>\n",
              "      <td>1</td>\n",
              "      <td>1</td>\n",
              "      <td>101699.77</td>\n",
              "      <td>0</td>\n",
              "    </tr>\n",
              "    <tr>\n",
              "      <th>9997</th>\n",
              "      <td>9998</td>\n",
              "      <td>15584532</td>\n",
              "      <td>Liu</td>\n",
              "      <td>709</td>\n",
              "      <td>France</td>\n",
              "      <td>Female</td>\n",
              "      <td>36</td>\n",
              "      <td>7</td>\n",
              "      <td>0.00</td>\n",
              "      <td>1</td>\n",
              "      <td>0</td>\n",
              "      <td>1</td>\n",
              "      <td>42085.58</td>\n",
              "      <td>1</td>\n",
              "    </tr>\n",
              "    <tr>\n",
              "      <th>9998</th>\n",
              "      <td>9999</td>\n",
              "      <td>15682355</td>\n",
              "      <td>Sabbatini</td>\n",
              "      <td>772</td>\n",
              "      <td>Germany</td>\n",
              "      <td>Male</td>\n",
              "      <td>42</td>\n",
              "      <td>3</td>\n",
              "      <td>75075.31</td>\n",
              "      <td>2</td>\n",
              "      <td>1</td>\n",
              "      <td>0</td>\n",
              "      <td>92888.52</td>\n",
              "      <td>1</td>\n",
              "    </tr>\n",
              "    <tr>\n",
              "      <th>9999</th>\n",
              "      <td>10000</td>\n",
              "      <td>15628319</td>\n",
              "      <td>Walker</td>\n",
              "      <td>792</td>\n",
              "      <td>France</td>\n",
              "      <td>Female</td>\n",
              "      <td>28</td>\n",
              "      <td>4</td>\n",
              "      <td>130142.79</td>\n",
              "      <td>1</td>\n",
              "      <td>1</td>\n",
              "      <td>0</td>\n",
              "      <td>38190.78</td>\n",
              "      <td>0</td>\n",
              "    </tr>\n",
              "  </tbody>\n",
              "</table>\n",
              "<p>10000 rows × 14 columns</p>\n",
              "</div>"
            ],
            "text/plain": [
              "      RowNumber  CustomerId    Surname  ...  IsActiveMember EstimatedSalary Exited\n",
              "0             1    15634602   Hargrave  ...               1       101348.88      1\n",
              "1             2    15647311       Hill  ...               1       112542.58      0\n",
              "2             3    15619304       Onio  ...               0       113931.57      1\n",
              "3             4    15701354       Boni  ...               0        93826.63      0\n",
              "4             5    15737888   Mitchell  ...               1        79084.10      0\n",
              "...         ...         ...        ...  ...             ...             ...    ...\n",
              "9995       9996    15606229   Obijiaku  ...               0        96270.64      0\n",
              "9996       9997    15569892  Johnstone  ...               1       101699.77      0\n",
              "9997       9998    15584532        Liu  ...               1        42085.58      1\n",
              "9998       9999    15682355  Sabbatini  ...               0        92888.52      1\n",
              "9999      10000    15628319     Walker  ...               0        38190.78      0\n",
              "\n",
              "[10000 rows x 14 columns]"
            ]
          },
          "execution_count": 42,
          "metadata": {
            "tags": []
          },
          "output_type": "execute_result"
        }
      ],
      "source": [
        "import pandas as pd\n",
        "pd.read_csv('/content/drive/MyDrive/Churn_Modelling.csv')"
      ]
    },
    {
      "cell_type": "code",
      "execution_count": null,
      "metadata": {
        "id": "snCLtLu13zKE"
      },
      "outputs": [],
      "source": [
        "y_pred = ann.predict(x)"
      ]
    },
    {
      "cell_type": "code",
      "execution_count": null,
      "metadata": {
        "colab": {
          "base_uri": "https://localhost:8080/"
        },
        "id": "zh6cwmhK4g20",
        "outputId": "ee4f8b01-9da9-444c-a61f-55d9d5dc5d97"
      },
      "outputs": [
        {
          "data": {
            "text/plain": [
              "0.00013447920172803855"
            ]
          },
          "execution_count": 54,
          "metadata": {
            "tags": []
          },
          "output_type": "execute_result"
        }
      ],
      "source": [
        "np.mean(np.square(y_pred-y))"
      ]
    }
  ],
  "metadata": {
    "accelerator": "GPU",
    "colab": {
      "collapsed_sections": [],
      "name": "Practice3_Solution.ipynb",
      "provenance": []
    },
    "kernelspec": {
      "display_name": "Python 3",
      "name": "python3"
    }
  },
  "nbformat": 4,
  "nbformat_minor": 0
}
